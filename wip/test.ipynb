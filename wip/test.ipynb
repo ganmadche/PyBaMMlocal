{
 "cells": [
  {
   "cell_type": "code",
   "execution_count": 1,
   "metadata": {},
   "outputs": [
    {
     "data": {
      "application/vnd.jupyter.widget-view+json": {
       "model_id": "3d3b824081f14326bd5875fdc0578a97",
       "version_major": 2,
       "version_minor": 0
      },
      "text/plain": [
       "interactive(children=(FloatSlider(value=0.0, description='t', max=1.0, step=0.01), Output()), _dom_classes=('w…"
      ]
     },
     "metadata": {},
     "output_type": "display_data"
    },
    {
     "data": {
      "text/plain": [
       "<pybamm.plotting.quick_plot.QuickPlot at 0x7f5bc52ea0b0>"
      ]
     },
     "execution_count": 1,
     "metadata": {},
     "output_type": "execute_result"
    }
   ],
   "source": [
    "import pybamm\n",
    "model = pybamm.lithium_ion.DFN()\n",
    "sim = pybamm.Simulation(model)\n",
    "sim.solve([0, 3600])\n",
    "sim.plot()"
   ]
  },
  {
   "cell_type": "markdown",
   "metadata": {},
   "source": [
    "As we have seen, experiments allow us to define complex simulations using a very simple syntax. The instructions can be of the form \"(Dis)charge at x A/C/W\", \"Rest\", or \"Hold at x V\". The running time should be a time in seconds, minutes or hours, e.g. \"10 seconds\", \"3 minutes\" or \"1 hour\". The stopping conditions should be a circuit state, e.g. \"1 A\", \"C/50\" or \"3 V\". \n",
    "\n",
    "Some examples of experiment instructions are:\n",
    "```python\n",
    "    \"Discharge at 1C for 0.5 hours\",\n",
    "    \"Discharge at C/20 for 0.5 hours\",\n",
    "    \"Charge at 0.5 C for 45 minutes\",\n",
    "    \"Discharge at 1 A for 90 seconds\",\n",
    "    \"Charge at 200mA for 45 minutes\",\n",
    "    \"Discharge at 1 W for 0.5 hours\",\n",
    "    \"Charge at 200 mW for 45 minutes\",\n",
    "    \"Rest for 10 minutes\",\n",
    "    \"Hold at 1 V for 20 seconds\",\n",
    "    \"Charge at 1 C until 4.1V\",\n",
    "    \"Hold at 4.1 V until 50 mA\",\n",
    "    \"Hold at 3V until C/50\",\n",
    "```\n",
    "\n",
    "Additionally, we can use the operators `+` and `*` on lists in order to combine and repeat cycles:"
   ]
  },
  {
   "cell_type": "code",
   "execution_count": null,
   "metadata": {},
   "outputs": [],
   "source": [
    "pybamm.plot_summary_variables(sol)\n",
    "\n",
    "spm.summary_variables\n",
    "\n",
    "# Calculate stoichiometries at 100% SOC\n",
    "parameter_values.set_initial_stoichiometries(1);\n",
    "\n",
    "parameter_values.update({\"SEI kinetic rate constant [m.s-1]\": 1e-14})\n",
    "check_already_exists:\n",
    "parameter_values.search(\"electrolyte\")"
   ]
  },
  {
   "cell_type": "code",
   "execution_count": 1,
   "metadata": {},
   "outputs": [
    {
     "name": "stderr",
     "output_type": "stream",
     "text": [
      "2024-02-27 18:05:10.485 - [INFO] base_model._build_model(652): Start building Thevenin Equivalent Circuit Model\n",
      "2024-02-27 18:05:10.497 - [INFO] thevenin.build_model(210): Finished building Thevenin Equivalent Circuit Model\n",
      "2024-02-27 18:05:10.553 - [INFO] callbacks.on_experiment_start(164): Start running experiment\n",
      "2024-02-27 18:05:10.557 - [INFO] parameter_values.process_model(417): Start setting parameters for Thevenin Equivalent Circuit Model\n",
      "2024-02-27 18:05:10.578 - [INFO] parameter_values.process_model(486): Finish setting parameters for Thevenin Equivalent Circuit Model\n",
      "2024-02-27 18:05:10.580 - [INFO] parameter_values.process_model(417): Start setting parameters for Thevenin Equivalent Circuit Model\n",
      "2024-02-27 18:05:10.597 - [INFO] parameter_values.process_model(486): Finish setting parameters for Thevenin Equivalent Circuit Model\n",
      "2024-02-27 18:05:10.600 - [INFO] parameter_values.process_model(417): Start setting parameters for Thevenin Equivalent Circuit Model\n",
      "2024-02-27 18:05:10.617 - [INFO] parameter_values.process_model(486): Finish setting parameters for Thevenin Equivalent Circuit Model\n",
      "2024-02-27 18:05:10.619 - [INFO] parameter_values.process_model(417): Start setting parameters for Thevenin Equivalent Circuit Model\n",
      "2024-02-27 18:05:10.632 - [INFO] parameter_values.process_model(486): Finish setting parameters for Thevenin Equivalent Circuit Model\n",
      "2024-02-27 18:05:10.633 - [INFO] discretisation.process_model(145): Start discretising Thevenin Equivalent Circuit Model\n",
      "2024-02-27 18:05:10.636 - [INFO] discretisation.remove_independent_variables_from_rhs(1126): removing variable Discharge capacity [A.h] from rhs\n",
      "2024-02-27 18:05:10.638 - [INFO] discretisation.remove_independent_variables_from_rhs(1126): removing variable Throughput capacity [A.h] from rhs\n",
      "2024-02-27 18:05:10.655 - [INFO] discretisation.process_model(247): Finish discretising Thevenin Equivalent Circuit Model\n",
      "2024-02-27 18:05:10.656 - [INFO] discretisation.process_model(145): Start discretising Thevenin Equivalent Circuit Model\n",
      "2024-02-27 18:05:10.658 - [INFO] discretisation.remove_independent_variables_from_rhs(1126): removing variable Discharge capacity [A.h] from rhs\n",
      "2024-02-27 18:05:10.660 - [INFO] discretisation.remove_independent_variables_from_rhs(1126): removing variable Throughput capacity [A.h] from rhs\n",
      "2024-02-27 18:05:10.671 - [INFO] discretisation.process_model(247): Finish discretising Thevenin Equivalent Circuit Model\n",
      "2024-02-27 18:05:10.672 - [INFO] discretisation.process_model(145): Start discretising Thevenin Equivalent Circuit Model\n",
      "2024-02-27 18:05:10.674 - [INFO] discretisation.remove_independent_variables_from_rhs(1126): removing variable Discharge capacity [A.h] from rhs\n",
      "2024-02-27 18:05:10.675 - [INFO] discretisation.remove_independent_variables_from_rhs(1126): removing variable Throughput capacity [A.h] from rhs\n",
      "2024-02-27 18:05:10.701 - [INFO] discretisation.process_model(247): Finish discretising Thevenin Equivalent Circuit Model\n",
      "2024-02-27 18:05:10.703 - [INFO] discretisation.process_model(145): Start discretising Thevenin Equivalent Circuit Model\n",
      "2024-02-27 18:05:10.704 - [INFO] discretisation.remove_independent_variables_from_rhs(1126): removing variable Discharge capacity [A.h] from rhs\n",
      "2024-02-27 18:05:10.705 - [INFO] discretisation.remove_independent_variables_from_rhs(1126): removing variable Throughput capacity [A.h] from rhs\n",
      "2024-02-27 18:05:10.727 - [INFO] discretisation.process_model(247): Finish discretising Thevenin Equivalent Circuit Model\n",
      "2024-02-27 18:05:10.728 - [NOTICE] callbacks.on_cycle_start(172): Cycle 1/1 (37.587 us elapsed) --------------------\n",
      "2024-02-27 18:05:10.729 - [NOTICE] callbacks.on_step_start(180): Cycle 1/1, step 1/7: Discharge at C/10 for 10 hours or until 3.3 V\n",
      "2024-02-27 18:05:10.731 - [INFO] base_solver.set_up(117): Start solver set-up\n",
      "2024-02-27 18:05:10.771 - [INFO] base_solver.set_up(286): Finish solver set-up\n",
      "2024-02-27 18:05:10.812 - [NOTICE] callbacks.on_step_start(180): Cycle 1/1, step 2/7: Rest for 30 minutes\n",
      "2024-02-27 18:05:10.813 - [INFO] base_solver.set_up(117): Start solver set-up\n",
      "2024-02-27 18:05:10.830 - [INFO] base_solver.set_up(286): Finish solver set-up\n",
      "2024-02-27 18:05:10.843 - [NOTICE] callbacks.on_step_start(180): Cycle 1/1, step 3/7: Rest for 2 hours\n",
      "2024-02-27 18:05:10.857 - [NOTICE] callbacks.on_step_start(180): Cycle 1/1, step 4/7: Charge at 100 A until 4.1 V\n",
      "2024-02-27 18:05:10.858 - [INFO] base_solver.set_up(117): Start solver set-up\n",
      "2024-02-27 18:05:10.879 - [INFO] base_solver.set_up(286): Finish solver set-up\n",
      "2024-02-27 18:05:10.902 - [NOTICE] callbacks.on_step_start(180): Cycle 1/1, step 5/7: Hold at 4.1 V until 5 A\n",
      "2024-02-27 18:05:10.903 - [INFO] base_solver.set_up(117): Start solver set-up\n",
      "2024-02-27 18:05:10.929 - [INFO] base_solver.set_up(286): Finish solver set-up\n",
      "2024-02-27 18:05:10.957 - [NOTICE] callbacks.on_step_start(180): Cycle 1/1, step 6/7: Rest for 30 minutes\n",
      "2024-02-27 18:05:10.968 - [NOTICE] callbacks.on_step_start(180): Cycle 1/1, step 7/7: Rest for 1 hour\n",
      "2024-02-27 18:05:11.015 - [NOTICE] callbacks.on_experiment_end(220): Finish experiment simulation, took 286.397 ms\n"
     ]
    },
    {
     "data": {
      "application/vnd.jupyter.widget-view+json": {
       "model_id": "1933a390b2ac4544935b25f2359f30de",
       "version_major": 2,
       "version_minor": 0
      },
      "text/plain": [
       "interactive(children=(FloatSlider(value=0.0, description='t', max=10.00150677745567, step=0.10001506777455671)…"
      ]
     },
     "metadata": {},
     "output_type": "display_data"
    },
    {
     "data": {
      "text/plain": [
       "<pybamm.plotting.quick_plot.QuickPlot at 0x7f3b2c8e7220>"
      ]
     },
     "execution_count": 1,
     "metadata": {},
     "output_type": "execute_result"
    }
   ],
   "source": [
    "import pybamm\n",
    "\n",
    "pybamm.set_logging_level(\"INFO\")\n",
    "\n",
    "model = pybamm.equivalent_circuit.Thevenin()\n",
    "\n",
    "experiment = pybamm.Experiment(\n",
    "    [\n",
    "        (\n",
    "            \"Discharge at C/10 for 10 hours or until 3.3 V\",\n",
    "            \"Rest for 30 minutes\",\n",
    "            \"Rest for 2 hours\",\n",
    "            \"Charge at 100 A until 4.1 V\",\n",
    "            \"Hold at 4.1 V until 5 A\",\n",
    "            \"Rest for 30 minutes\",\n",
    "            \"Rest for 1 hour\",\n",
    "        ),\n",
    "    ]\n",
    ")\n",
    "\n",
    "sim = pybamm.Simulation(model, experiment=experiment)\n",
    "sim.solve()\n",
    "sim.plot()"
   ]
  },
  {
   "cell_type": "code",
   "execution_count": 1,
   "metadata": {},
   "outputs": [
    {
     "data": {
      "text/plain": [
       "<pybamm.solvers.solution.Solution at 0x7efe6441c670>"
      ]
     },
     "execution_count": 1,
     "metadata": {},
     "output_type": "execute_result"
    }
   ],
   "source": [
    "import pybamm\n",
    "options = {\"thermal\": \"lumped\"}\n",
    "model = pybamm.lithium_ion.DFN(options=options)\n",
    "import matplotlib.pyplot as plt\n",
    "\n",
    "parameter_values = pybamm.ParameterValues(\"OKane2022\")\n",
    "days =2\n",
    "experiment = pybamm.Experiment(\n",
    "    [\n",
    "        (\n",
    "            \"Discharge at 1C for 1 hour or until 3.0 V\",\n",
    "            \"Rest for 10 min\",\n",
    "            \"Charge at 1C until 4.1 V\",\n",
    "            \"Hold at 4.1 V until 50 mA\",\n",
    "            \"Rest for 1 hour\",\n",
    "        ),\n",
    "    ]\n",
    "    * days    \n",
    ")\n",
    "\n",
    "sim = pybamm.Simulation(model, parameter_values=parameter_values,experiment=experiment)\n",
    "#sim = pybamm.Simulation(model)\n",
    "sim.solve()"
   ]
  },
  {
   "cell_type": "code",
   "execution_count": 1,
   "metadata": {},
   "outputs": [],
   "source": [
    "from pyDOE import fracfact"
   ]
  },
  {
   "cell_type": "code",
   "execution_count": null,
   "metadata": {},
   "outputs": [],
   "source": [
    "from pyDOE import fracfact\n",
    "\n",
    "# Define your factors and levels\n",
    "temp_list = [20, 25, 45]\n",
    "crate_list = [0.1, 0.3, 1]\n",
    "soc_list = [10, 60, 100]\n",
    "dod_list = [50, 70, 90]\n",
    "\n",
    "factors = [len(temp_list), len(crate_list), len(soc_list), len(dod_list)]  # Number of levels for each factor\n",
    "\n",
    "# Generate the fractional factorial design\n",
    "design = fracfact(factors)\n",
    "\n",
    "# Scale the design to actual factor values\n",
    "scaled_design = [\n",
    "    [temp_list[row[0]], crate_list[row[1]], soc_list[row[2]], dod_list[row[3]]]\n",
    "    for row in design\n",
    "]\n"
   ]
  },
  {
   "cell_type": "code",
   "execution_count": null,
   "metadata": {},
   "outputs": [],
   "source": [
    "from pyDOE import fullfact\n",
    "\n",
    "# Define factors and their levels as lists\n",
    "factors = [2, 3, 2]  # Number of levels for each factor\n",
    "levels = [range(1, f + 1) for f in factors]  # Range of levels for each factor\n",
    "\n",
    "# Generate the full factorial design\n",
    "design = fullfact(factors)\n",
    "\n",
    "# Calculate the number of experiments\n",
    "num_experiments = len(design)\n",
    "\n",
    "# Print the design and number of experiments\n",
    "print(\"Full Factorial Design:\")\n",
    "print(design)\n",
    "print(f\"Number of experiments: {num_experiments}\")\n",
    "\n",
    "# Print the actual factor level combinations\n",
    "print(\"Factor level combinations:\")\n",
    "for i, row in enumerate(design):\n",
    "    combination = [levels[j][int(row[j])] for j in range(len(factors))]\n",
    "    print(f\"Experiment {i + 1}: {combination}\")\n"
   ]
  }
 ],
 "metadata": {
  "kernelspec": {
   "display_name": "venv",
   "language": "python",
   "name": "python3"
  },
  "language_info": {
   "codemirror_mode": {
    "name": "ipython",
    "version": 3
   },
   "file_extension": ".py",
   "mimetype": "text/x-python",
   "name": "python",
   "nbconvert_exporter": "python",
   "pygments_lexer": "ipython3",
   "version": "3.10.12"
  }
 },
 "nbformat": 4,
 "nbformat_minor": 2
}
