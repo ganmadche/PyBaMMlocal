{
 "cells": [
  {
   "cell_type": "code",
   "execution_count": 151,
   "metadata": {},
   "outputs": [],
   "source": [
    "import pybamm\n",
    "import matplotlib.pyplot as plt\n",
    "import pandas as pd\n",
    "import os\n",
    "current_directory = os.getcwd()\n",
    "\n",
    "parameter_values = pybamm.ParameterValues(\"Chen2020\")\n",
    "options = {\"thermal\": \"lumped\", \"lithium plating\": \"irreversible\",\"SEI\":\"ec reaction limited\", \"SEI film resistance\":\"average\", \"SEI porosity change\": \"true\",\"loss of active material\": \"stress-driven\",\"particle mechanics\":\"swelling only\"}\n",
    "parameter_values = pybamm.ParameterValues(\"Chen2020\")\n",
    "model = pybamm.lithium_ion.SPM(options=options)"
   ]
  },
  {
   "cell_type": "code",
   "execution_count": 152,
   "metadata": {},
   "outputs": [],
   "source": [
    "#thermal parameters update\n",
    "parameter_values.update({\"Negative electrode OCP entropic change [V.K-1]\": -0.0002,\n",
    "                         \"Positive electrode OCP entropic change [V.K-1]\": -0.0004,\n",
    "                         \"Contact resistance [Ohm]\": 0.001,\n",
    "                         \"Total heat transfer coefficient [W.m-2.K-1]\": 10.0,\n",
    "                         \"Cell cooling surface area [m2]\": 0.00531,\n",
    "                         \"Cell volume [m3]\": 2.42e-05,\n",
    "                         \"Cell thermal expansion coefficient [m.K-1]\": 1.1e-06,})"
   ]
  },
  {
   "cell_type": "code",
   "execution_count": 153,
   "metadata": {},
   "outputs": [],
   "source": [
    "#sei parameters update\n",
    "parameter_values.update({\"SEI kinetic rate constant [m.s-1]\": 1e-12*0.002})\n",
    "# parameter_values.update({\"Ratio of lithium moles to SEI moles\": 1.0*2})\n",
    "# parameter_values.update({\"Inner SEI partial molar volume [m3.mol-1]\": 9.585e-05*0.5})\n",
    "#parameter_values.update({\"Outer SEI partial molar volume [m3.mol-1]\": 9.585e-05*0.5})\n",
    "# parameter_values.update({\"SEI resistivity [Ohm.m]\": 200000.0*0.1})\n",
    "parameter_values.update({\"EC diffusivity [m2.s-1]\": 2e-18*0+2.5e-22*4})\n",
    "# parameter_values.update({\"EC initial concentration in electrolyte [mol.m-3]\": 4541.0*1})\n",
    "# parameter_values.update({\"SEI growth activation energy [J.mol-1]\": 38000.0*0})"
   ]
  },
  {
   "cell_type": "code",
   "execution_count": 154,
   "metadata": {},
   "outputs": [],
   "source": [
    "def graphite_volume_change_Ai2020(sto, c_s_max):\n",
    "    \"\"\"\n",
    "    Graphite particle volume change as a function of stochiometry [1, 2].\n",
    "\n",
    "    References\n",
    "    ----------\n",
    "     .. [1] Ai, W., Kraft, L., Sturm, J., Jossen, A., & Wu, B. (2020).\n",
    "     Electrochemical Thermal-Mechanical Modelling of Stress Inhomogeneity in\n",
    "     Lithium-Ion Pouch Cells. Journal of The Electrochemical Society, 167(1), 013512\n",
    "      DOI: 10.1149/2.0122001JES.\n",
    "     .. [2] Rieger, B., Erhard, S. V., Rumpf, K., & Jossen, A. (2016).\n",
    "     A new method to model the thickness change of a commercial pouch cell\n",
    "     during discharge. Journal of The Electrochemical Society, 163(8), A1566-A1575.\n",
    "\n",
    "    Parameters\n",
    "    ----------\n",
    "    sto: :class:`pybamm.Symbol`\n",
    "        Electrode stochiometry, dimensionless\n",
    "        should be R-averaged particle concentration\n",
    "    Returns\n",
    "    -------\n",
    "    t_change:class:`pybamm.Symbol`\n",
    "        volume change, dimensionless, normalised by particle volume\n",
    "    \"\"\"\n",
    "    p1 = 145.907\n",
    "    p2 = -681.229\n",
    "    p3 = 1334.442\n",
    "    p4 = -1415.710\n",
    "    p5 = 873.906\n",
    "    p6 = -312.528\n",
    "    p7 = 60.641\n",
    "    p8 = -5.706\n",
    "    p9 = 0.386\n",
    "    p10 = -4.966e-05\n",
    "    t_change = (\n",
    "        p1 * sto**9\n",
    "        + p2 * sto**8\n",
    "        + p3 * sto**7\n",
    "        + p4 * sto**6\n",
    "        + p5 * sto**5\n",
    "        + p6 * sto**4\n",
    "        + p7 * sto**3\n",
    "        + p8 * sto**2\n",
    "        + p9 * sto\n",
    "        + p10\n",
    "    )\n",
    "    return t_change"
   ]
  },
  {
   "cell_type": "code",
   "execution_count": 155,
   "metadata": {},
   "outputs": [],
   "source": [
    "def volume_change_Ai2020(sto, c_s_max):\n",
    "    \"\"\"\n",
    "    Particle volume change as a function of stochiometry [1, 2].\n",
    "\n",
    "    References\n",
    "    ----------\n",
    "     .. [1] > Ai, W., Kraft, L., Sturm, J., Jossen, A., & Wu, B. (2020).\n",
    "     Electrochemical Thermal-Mechanical Modelling of Stress Inhomogeneity in\n",
    "     Lithium-Ion Pouch Cells. Journal of The Electrochemical Society, 167(1), 013512\n",
    "      DOI: 10.1149/2.0122001JES.\n",
    "     .. [2] > Rieger, B., Erhard, S. V., Rumpf, K., & Jossen, A. (2016).\n",
    "     A new method to model the thickness change of a commercial pouch cell\n",
    "     during discharge. Journal of The Electrochemical Society, 163(8), A1566-A1575.\n",
    "\n",
    "    Parameters\n",
    "    ----------\n",
    "    sto: :class:`pybamm.Symbol`\n",
    "        Electrode stochiometry, dimensionless\n",
    "        should be R-averaged particle concentration\n",
    "    Returns\n",
    "    -------\n",
    "    t_change:class:`pybamm.Symbol`\n",
    "        volume change, dimensionless, normalised by particle volume\n",
    "    \"\"\"\n",
    "    omega = pybamm.Parameter(\"Positive electrode partial molar volume [m3.mol-1]\")\n",
    "    t_change = omega * c_s_max * sto\n",
    "    return t_change"
   ]
  },
  {
   "cell_type": "code",
   "execution_count": 156,
   "metadata": {},
   "outputs": [],
   "source": [
    "# LAM parameters update\n",
    "\n",
    "parameter_values.update({\"Positive electrode LAM constant proportional term [s-1]\": 0.01/3600,\n",
    "                         \"Negative electrode LAM constant proportional term [s-1]\": 0.02/3600,\n",
    "                         \n",
    "                         \"Positive electrode LAM constant exponential term\": 2.0*1.1,\n",
    "                         \"Negative electrode critical stress [Pa]\": 60000000.0*1,\n",
    "                         \"Negative electrode LAM constant exponential term\": 2.0*1.1,\n",
    "                         \"Positive electrode critical stress [Pa]\": 375000000.0*1,\n",
    "                         \"Positive electrode partial molar volume [m3.mol-1]\": 1.25e-05,\n",
    "                         \"Negative electrode partial molar volume [m3.mol-1]\": 3.1e-06,\n",
    "                         \"Negative electrode Young's modulus [Pa]\": 15000000000.0,\n",
    "                         \"Negative electrode Poisson's ratio\": 0.3,\n",
    "                         \"Positive electrode Poisson's ratio\": 0.2,\n",
    "                         \"Positive electrode Young's modulus [Pa]\": 375000000000.0,\n",
    "                         \"Negative electrode reference concentration for free of deformation [mol.m-3]\"\n",
    "                         \"\": 0.0,\n",
    "                         \"Positive electrode reference concentration for free of deformation [mol.m-3]\"\n",
    "                         \"\": 0.0,\n",
    "                         \"Negative electrode volume change\": graphite_volume_change_Ai2020,\n",
    "                         \"Positive electrode volume change\": volume_change_Ai2020,}, check_already_exists=False)\n",
    "\n",
    "#parameter_values.update({\"Positive electrode LAM constant exponential term\": 2.0*1.1})\n",
    "#parameter_values.update({\"Negative electrode critical stress [Pa]\": 60000000.0*0.0009})\n",
    "#parameter_values.update({\"Negative electrode LAM constant exponential term\": 2.0*1.1})\n",
    "\n",
    "#parameter_values.update({\"Positive electrode critical stress [Pa]\": 375000000.0*0.00001})\n",
    "\n",
    "\n"
   ]
  },
  {
   "cell_type": "code",
   "execution_count": 157,
   "metadata": {},
   "outputs": [],
   "source": [
    "def plating_exchange_current_density_OKane2020(c_e, c_Li, T):\n",
    "    \"\"\"\n",
    "    Exchange-current density for Li plating reaction [A.m-2].\n",
    "    References\n",
    "    ----------\n",
    "    .. [1] O’Kane, Simon EJ, Ian D. Campbell, Mohamed WJ Marzook, Gregory J. Offer, and\n",
    "    Monica Marinescu. \"Physical origin of the differential voltage minimum associated\n",
    "    with lithium plating in Li-ion batteries.\" Journal of The Electrochemical Society\n",
    "    167, no. 9 (2020): 090540.\n",
    "    Parameters\n",
    "    ----------\n",
    "    c_e : :class:`pybamm.Symbol`\n",
    "        Electrolyte concentration [mol.m-3]\n",
    "    c_Li : :class:`pybamm.Symbol`\n",
    "        Plated lithium concentration [mol.m-3]\n",
    "    T : :class:`pybamm.Symbol`\n",
    "        Temperature [K]\n",
    "    Returns\n",
    "    -------\n",
    "    :class:`pybamm.Symbol`\n",
    "        Exchange-current density [A.m-2]\n",
    "    \"\"\"\n",
    "\n",
    "    k_plating = pybamm.Parameter(\"Lithium plating kinetic rate constant [m.s-1]\")\n",
    "\n",
    "    return pybamm.constants.F * k_plating * c_e"
   ]
  },
  {
   "cell_type": "code",
   "execution_count": 158,
   "metadata": {},
   "outputs": [],
   "source": [
    "#Plating paremeters update\n",
    "parameter_values.update({\"Typical plated lithium concentration [mol.m-3]\": 1000.0,\n",
    "                        \"Lithium metal partial molar volume [m3.mol-1]\": 1.3e-05,\n",
    "                        \"Exchange-current density for plating [A.m-2]\"\n",
    "                        \"\": plating_exchange_current_density_OKane2020,\n",
    "                        \"Lithium plating kinetic rate constant [m.s-1]\": 1e-09*0.001,\n",
    "                        \"Lithium plating transfer coefficient\": 0.65,\n",
    "                        \"Initial plated lithium concentration [mol.m-3]\": 0.0,}, check_already_exists=False)\n"
   ]
  },
  {
   "cell_type": "code",
   "execution_count": 169,
   "metadata": {},
   "outputs": [],
   "source": [
    "from itertools import product\n",
    "\n",
    "\n",
    "temp_list = [20, 25, 40]\n",
    "crate_list = [0.3, 0.5, 0.7]\n",
    "soc_list = [100]\n",
    "dod_list = [60, 70, 90]\n",
    "\n",
    "all_cases = list(product(temp_list, crate_list, soc_list, dod_list))\n",
    "\n",
    "df = pd.DataFrame(all_cases,columns = [\"Temperature\", \"C_rate\", \"SoC\", \"DoD\"])\n",
    "df.insert(0, \"Case\", range(1, len(df)+1))\n",
    "df.to_csv(f\"{current_directory}/ageingresults/Cases_for_ageing.csv\", index=False)"
   ]
  },
  {
   "cell_type": "code",
   "execution_count": 160,
   "metadata": {},
   "outputs": [
    {
     "data": {
      "text/html": [
       "<div>\n",
       "<style scoped>\n",
       "    .dataframe tbody tr th:only-of-type {\n",
       "        vertical-align: middle;\n",
       "    }\n",
       "\n",
       "    .dataframe tbody tr th {\n",
       "        vertical-align: top;\n",
       "    }\n",
       "\n",
       "    .dataframe thead th {\n",
       "        text-align: right;\n",
       "    }\n",
       "</style>\n",
       "<table border=\"1\" class=\"dataframe\">\n",
       "  <thead>\n",
       "    <tr style=\"text-align: right;\">\n",
       "      <th></th>\n",
       "      <th>Case</th>\n",
       "      <th>Temperature</th>\n",
       "      <th>C_rate</th>\n",
       "      <th>SoC</th>\n",
       "      <th>DoD</th>\n",
       "    </tr>\n",
       "  </thead>\n",
       "  <tbody>\n",
       "    <tr>\n",
       "      <th>0</th>\n",
       "      <td>1</td>\n",
       "      <td>20</td>\n",
       "      <td>0.3</td>\n",
       "      <td>0</td>\n",
       "      <td>60</td>\n",
       "    </tr>\n",
       "    <tr>\n",
       "      <th>1</th>\n",
       "      <td>2</td>\n",
       "      <td>20</td>\n",
       "      <td>0.3</td>\n",
       "      <td>0</td>\n",
       "      <td>70</td>\n",
       "    </tr>\n",
       "    <tr>\n",
       "      <th>2</th>\n",
       "      <td>3</td>\n",
       "      <td>20</td>\n",
       "      <td>0.3</td>\n",
       "      <td>0</td>\n",
       "      <td>90</td>\n",
       "    </tr>\n",
       "    <tr>\n",
       "      <th>3</th>\n",
       "      <td>4</td>\n",
       "      <td>20</td>\n",
       "      <td>0.3</td>\n",
       "      <td>50</td>\n",
       "      <td>60</td>\n",
       "    </tr>\n",
       "    <tr>\n",
       "      <th>4</th>\n",
       "      <td>5</td>\n",
       "      <td>20</td>\n",
       "      <td>0.3</td>\n",
       "      <td>50</td>\n",
       "      <td>70</td>\n",
       "    </tr>\n",
       "    <tr>\n",
       "      <th>...</th>\n",
       "      <td>...</td>\n",
       "      <td>...</td>\n",
       "      <td>...</td>\n",
       "      <td>...</td>\n",
       "      <td>...</td>\n",
       "    </tr>\n",
       "    <tr>\n",
       "      <th>76</th>\n",
       "      <td>77</td>\n",
       "      <td>40</td>\n",
       "      <td>0.7</td>\n",
       "      <td>50</td>\n",
       "      <td>70</td>\n",
       "    </tr>\n",
       "    <tr>\n",
       "      <th>77</th>\n",
       "      <td>78</td>\n",
       "      <td>40</td>\n",
       "      <td>0.7</td>\n",
       "      <td>50</td>\n",
       "      <td>90</td>\n",
       "    </tr>\n",
       "    <tr>\n",
       "      <th>78</th>\n",
       "      <td>79</td>\n",
       "      <td>40</td>\n",
       "      <td>0.7</td>\n",
       "      <td>100</td>\n",
       "      <td>60</td>\n",
       "    </tr>\n",
       "    <tr>\n",
       "      <th>79</th>\n",
       "      <td>80</td>\n",
       "      <td>40</td>\n",
       "      <td>0.7</td>\n",
       "      <td>100</td>\n",
       "      <td>70</td>\n",
       "    </tr>\n",
       "    <tr>\n",
       "      <th>80</th>\n",
       "      <td>81</td>\n",
       "      <td>40</td>\n",
       "      <td>0.7</td>\n",
       "      <td>100</td>\n",
       "      <td>90</td>\n",
       "    </tr>\n",
       "  </tbody>\n",
       "</table>\n",
       "<p>81 rows × 5 columns</p>\n",
       "</div>"
      ],
      "text/plain": [
       "    Case  Temperature  C_rate  SoC  DoD\n",
       "0      1           20     0.3    0   60\n",
       "1      2           20     0.3    0   70\n",
       "2      3           20     0.3    0   90\n",
       "3      4           20     0.3   50   60\n",
       "4      5           20     0.3   50   70\n",
       "..   ...          ...     ...  ...  ...\n",
       "76    77           40     0.7   50   70\n",
       "77    78           40     0.7   50   90\n",
       "78    79           40     0.7  100   60\n",
       "79    80           40     0.7  100   70\n",
       "80    81           40     0.7  100   90\n",
       "\n",
       "[81 rows x 5 columns]"
      ]
     },
     "execution_count": 160,
     "metadata": {},
     "output_type": "execute_result"
    }
   ],
   "source": [
    "df"
   ]
  },
  {
   "cell_type": "code",
   "execution_count": 171,
   "metadata": {},
   "outputs": [
    {
     "name": "stderr",
     "output_type": "stream",
     "text": [
      "2024-07-03 21:12:29.550 - [ERROR] callbacks.on_experiment_error(228): Simulation error: Step time must be at least 1.000 ns\n",
      "Cycling: 100%|██████████| 1095/1095 [00:59<00:00, 18.47it/s]\n"
     ]
    },
    {
     "name": "stdout",
     "output_type": "stream",
     "text": [
      "Took 663.382 ms\n"
     ]
    },
    {
     "name": "stderr",
     "output_type": "stream",
     "text": [
      "2024-07-03 21:13:32.616 - [ERROR] callbacks.on_experiment_error(228): Simulation error: Step time must be at least 1.000 ns\n",
      "Cycling: 100%|██████████| 1095/1095 [01:08<00:00, 16.00it/s]\n"
     ]
    },
    {
     "name": "stdout",
     "output_type": "stream",
     "text": [
      "Took 790.202 ms\n"
     ]
    },
    {
     "name": "stderr",
     "output_type": "stream",
     "text": [
      "2024-07-03 21:14:46.122 - [ERROR] callbacks.on_experiment_error(228): Simulation error: Step time must be at least 1.000 ns\n",
      "Cycling: 100%|██████████| 1095/1095 [01:17<00:00, 14.06it/s]\n"
     ]
    },
    {
     "name": "stdout",
     "output_type": "stream",
     "text": [
      "Took 1.019 s\n"
     ]
    },
    {
     "name": "stderr",
     "output_type": "stream",
     "text": [
      "2024-07-03 21:16:09.123 - [ERROR] callbacks.on_experiment_error(228): Simulation error: Step time must be at least 1.000 ns\n",
      "Cycling: 100%|██████████| 1095/1095 [01:03<00:00, 17.23it/s]\n"
     ]
    },
    {
     "name": "stdout",
     "output_type": "stream",
     "text": [
      "Took 628.368 ms\n"
     ]
    },
    {
     "name": "stderr",
     "output_type": "stream",
     "text": [
      "2024-07-03 21:17:16.397 - [ERROR] callbacks.on_experiment_error(228): Simulation error: Step time must be at least 1.000 ns\n",
      "Cycling: 100%|██████████| 1095/1095 [00:58<00:00, 18.85it/s]\n"
     ]
    },
    {
     "name": "stdout",
     "output_type": "stream",
     "text": [
      "Took 660.565 ms\n"
     ]
    },
    {
     "name": "stderr",
     "output_type": "stream",
     "text": [
      "2024-07-03 21:18:18.951 - [ERROR] callbacks.on_experiment_error(228): Simulation error: Step time must be at least 1.000 ns\n",
      "Cycling: 100%|██████████| 1095/1095 [01:02<00:00, 17.40it/s]\n"
     ]
    },
    {
     "name": "stdout",
     "output_type": "stream",
     "text": [
      "Took 758.099 ms\n"
     ]
    },
    {
     "name": "stderr",
     "output_type": "stream",
     "text": [
      "2024-07-03 21:19:25.750 - [ERROR] callbacks.on_experiment_error(228): Simulation error: Step time must be at least 1.000 ns\n",
      "Cycling: 100%|██████████| 1095/1095 [01:09<00:00, 15.81it/s]\n"
     ]
    },
    {
     "name": "stdout",
     "output_type": "stream",
     "text": [
      "Took 688.821 ms\n"
     ]
    },
    {
     "name": "stderr",
     "output_type": "stream",
     "text": [
      "2024-07-03 21:20:40.082 - [ERROR] callbacks.on_experiment_error(228): Simulation error: Step time must be at least 1.000 ns\n",
      "Cycling: 100%|██████████| 1095/1095 [00:54<00:00, 20.26it/s]\n"
     ]
    },
    {
     "name": "stdout",
     "output_type": "stream",
     "text": [
      "Took 593.519 ms\n"
     ]
    },
    {
     "name": "stderr",
     "output_type": "stream",
     "text": [
      "2024-07-03 21:21:37.850 - [ERROR] callbacks.on_experiment_error(228): Simulation error: Step time must be at least 1.000 ns\n",
      "Cycling: 100%|██████████| 1095/1095 [01:06<00:00, 16.36it/s]\n"
     ]
    },
    {
     "name": "stdout",
     "output_type": "stream",
     "text": [
      "Took 710.372 ms\n"
     ]
    },
    {
     "name": "stderr",
     "output_type": "stream",
     "text": [
      "2024-07-03 21:22:48.662 - [ERROR] callbacks.on_experiment_error(228): Simulation error: Step time must be at least 1.000 ns\n",
      "Cycling: 100%|██████████| 1095/1095 [01:10<00:00, 15.61it/s]\n"
     ]
    },
    {
     "name": "stdout",
     "output_type": "stream",
     "text": [
      "Took 874.108 ms\n"
     ]
    },
    {
     "data": {
      "image/png": "[encoded data removed]",
      "text/plain": [
       "<Figure size 640x480 with 1 Axes>"
      ]
     },
     "metadata": {},
     "output_type": "display_data"
    }
   ],
   "source": [
    "atol = 1e-3\n",
    "rtol = 1e-3\n",
    "dt_max = 1000\n",
    "cycles_per_day = 1\n",
    "days_per_year = 365\n",
    "years_for_sim = 1\n",
    "termination_capacity = 60\n",
    "time_per_cycle = 24/cycles_per_day #in hours\n",
    "soc_upper_cutoff = 1\n",
    "soc_lower_cutoff = 0\n",
    "max_dod = soc_upper_cutoff - soc_lower_cutoff\n",
    "crate_ref = 0.2\n",
    "period_charge_discharge = 2\n",
    "period_rest = 120\n",
    "safe_solver = pybamm.CasadiSolver(atol=atol, rtol=rtol, mode=\"safe\", dt_max= dt_max)\n",
    "\n",
    "df_conditions = {}\n",
    "df_conditions = pd.DataFrame(df_conditions)\n",
    "simcase_list = []\n",
    "experiment_list = []\n",
    "no_steps_list = []\n",
    "\n",
    "for n in range(10):\n",
    "    tempC_case = df[\"Temperature\"][n]\n",
    "    simcase = df[\"Case\"][n]\n",
    "    dod_case = df[\"DoD\"][n]*0.01\n",
    "    soc_case = df[\"SoC\"][n]*0.01\n",
    "    crate = df[\"C_rate\"][n]\n",
    "    \n",
    "    parameter_values.update({\"Ambient temperature [K]\": 298.15 + tempC_case,\n",
    "                            \"Initial temperature [K]\": 298.15 + tempC_case})\n",
    "\n",
    "    t_soc0 = (1-soc_case)*60/crate_ref #time in minutes\n",
    "    exp0 = pybamm.Experiment([(f\"Charge at {crate_ref}C until 4.2V\", \"Hold at 4.2V until 50 mA\", f\"Discharge at {crate_ref}C for {t_soc0} minutes\")])\n",
    "    sim0 = pybamm.Simulation(model=model, parameter_values= parameter_values, experiment=exp0)\n",
    "    sol0 = sim0.solve()\n",
    "\n",
    "    model1 = model.set_initial_conditions_from(sol0)\n",
    "\n",
    "    discharge_time = int(60/crate*dod_case) # in minutes\n",
    "    charge_time = int(60/crate*dod_case) # in minutes\n",
    "    rest_time = int(time_per_cycle*60) - discharge_time - charge_time\n",
    "\n",
    "    discharge_string = f\"Discharge at {crate}C for {discharge_time} min or until 2.5V ({period_charge_discharge} minute period)\"\n",
    "    charge_string = f\"Charge at {crate}C for {charge_time} min or until 4.2V ({period_charge_discharge} minute period)\"\n",
    "    rest_string = f\"Rest for {rest_time} min ({period_rest} minute period)\"\n",
    "\n",
    "\n",
    "    if (soc_case-dod_case) >= soc_lower_cutoff:\n",
    "        list_of_steps_auto = list([discharge_string, charge_string, rest_string])\n",
    "    elif (soc_case+dod_case)<= soc_upper_cutoff:\n",
    "        list_of_steps_auto = list([charge_string, discharge_string, rest_string])\n",
    "    elif soc_case ==0.5 and dod_case > soc_case:\n",
    "        discharge_to_soc_time = int(60/crate*(dod_case-soc_case))\n",
    "        updated_rest_time = rest_time - discharge_to_soc_time\n",
    "        discharge_to_soc_string = f\"Discharge at {crate}C for {discharge_to_soc_time} minutes ({period_charge_discharge} minute period)\"\n",
    "        updated_rest_string = f\"Rest for {updated_rest_time} minutes ({period_rest}) minute period)\"\n",
    "        \n",
    "        list_of_steps_auto = list([discharge_string, charge_string, updated_rest_string]) # discharge_to_soc_string,\n",
    "        \n",
    "    steps_total = len(list_of_steps_auto)\n",
    "        \n",
    "    simcase_list.append(f\"Case {simcase}: {tempC_case}degC, {soc_case*100}%SoC, {crate}C, {dod_case*100}%DoD, {cycles_per_day}cycles\")\n",
    "    no_steps_list.append(steps_total)\n",
    "    experiment_list.append(list_of_steps_auto)\n",
    "    exp1 = pybamm.Experiment(list_of_steps_auto*cycles_per_day*days_per_year*years_for_sim, termination=f\"{termination_capacity}% capacity\")\n",
    "    sim1 = pybamm.Simulation(model=model1, parameter_values=parameter_values, experiment=exp1, solver=safe_solver)\n",
    "    sol1 = sim1.solve(showprogress=True, save_at_cycles=50)\n",
    "    print(\"Took\", sol1.solve_time)\n",
    "    \n",
    "    Q1 = sim1.solution.summary_variables[\"Capacity [A.h]\"]\n",
    "    cycle1 = sim1.solution.summary_variables[\"Cycle number\"]\n",
    "    df2 = {}\n",
    "    df2 = pd.DataFrame(df2)\n",
    "    df2[\"Days\"] =cycle1/(steps_total*cycles_per_day)\n",
    "    df2.to_csv(f\"{current_directory}/ageingresults/Case{simcase}_{tempC_case}degC_{crate}C_{soc_case*100}SoC_{dod_case*100}DoD_{cycles_per_day}cycle.csv\")\n",
    "\n",
    "    plt.plot(cycle1/(steps_total*cycles_per_day)/days_per_year,Q1/Q1[0],\"--\", label =f\"Case{simcase}_{tempC_case}degC_{crate}C_{int(soc_case*100)}SoC_{int(dod_case*100)}DoD_{cycles_per_day}cycle\")\n",
    "    plt.legend(fontsize=6)\n",
    "\n",
    "plt.xlabel(\"Year\")\n",
    "plt.ylabel(\"Capacity retention\")\n",
    "plt.xticks(fontsize =16)\n",
    "plt.yticks(fontsize = 16)\n",
    "plt.show()\n",
    "\n",
    "df_conditions[\"simcase\"] = simcase_list\n",
    "df_conditions[\"Experiment\"] = experiment_list\n",
    "df_conditions[\"n_steps\"] = no_steps_list\n",
    "\n",
    "df_conditions.to_csv(f\"{current_directory}/ageingresults/experiments.csv\")\n",
    "\n"
   ]
  },
  {
   "cell_type": "code",
   "execution_count": null,
   "metadata": {},
   "outputs": [],
   "source": [
    "# Q1 = sim1.solution.summary_variables[\"Capacity [A.h]\"]\n",
    "# cycle1 = sim1.solution.summary_variables[\"Cycle number\"]\n",
    "# df2 = {}\n",
    "# df2 = pd.DataFrame(df2)\n",
    "# df2[\"Days\"] =cycle1/(steps_total*cycles_per_day)\n",
    "# df2.to_csv(f\"{current_directory}/ageingresults/Case{simcase}_{tempC_case}degC_{crate}C_{soc_case*100}SoC_{dod_case*100}DoD_{cycles_per_day}cycle.csv\")\n",
    "\n",
    "# plt.plot(cycle1/(steps_total*cycles_per_day)/days_per_year,Q1/Q1[0],\"--\", label =f\"Case{simcase}_{tempC_case}degC_{crate}C_{int(soc_case*100)}SoC_{int(dod_case*100)}DoD_{cycles_per_day}cycle\")\n",
    "# plt.legend(fontsize=6)\n",
    "\n",
    "# plt.xlabel(\"Year\")\n",
    "# plt.ylabel(\"Capacity retention\")\n",
    "# plt.xticks(fontsize =16)\n",
    "# plt.yticks(fontsize = 16)\n",
    "# plt.show()\n",
    "\n",
    "# df_conditions[\"simcase\"] = simcase_list\n",
    "# df_conditions[\"Experiment\"] = experiment_list\n",
    "# df_conditions[\"n_steps\"] = no_steps_list\n",
    "\n",
    "#df_conditions.to_csv(f\"{current_directory}/ageingresults/experiments.csv\")"
   ]
  }
 ],
 "metadata": {
  "kernelspec": {
   "display_name": "venv",
   "language": "python",
   "name": "python3"
  },
  "language_info": {
   "codemirror_mode": {
    "name": "ipython",
    "version": 3
   },
   "file_extension": ".py",
   "mimetype": "text/x-python",
   "name": "python",
   "nbconvert_exporter": "python",
   "pygments_lexer": "ipython3",
   "version": "3.10.12"
  }
 },
 "nbformat": 4,
 "nbformat_minor": 2
}
